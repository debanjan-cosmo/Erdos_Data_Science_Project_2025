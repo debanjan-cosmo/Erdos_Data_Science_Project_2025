{
 "cells": [
  {
   "cell_type": "markdown",
   "id": "cf6faad7",
   "metadata": {},
   "source": [
    "### Importing Required Packages"
   ]
  },
  {
   "cell_type": "code",
   "execution_count": 1,
   "id": "3bd4c985",
   "metadata": {},
   "outputs": [],
   "source": [
    "# Use Erdos_Spring_2025 conda env as created\n",
    "# pip install kagglehub[pandas-datasets]\n",
    "import kagglehub\n",
    "from kagglehub import KaggleDatasetAdapter\n",
    "import pandas as pd\n",
    "import numpy as np\n",
    "import seaborn as sns\n",
    "import matplotlib.pyplot as plt\n",
    "import warnings\n",
    "warnings.filterwarnings(\"ignore\")"
   ]
  },
  {
   "cell_type": "markdown",
   "id": "f0552071",
   "metadata": {},
   "source": [
    "### Loading the Dataset from Kaggle\n",
    "\n",
    "Here, we define the relative path of the dataset file and use `kagglehub.load_dataset()` to fetch the latest version of the **Dry Eye Disease Dataset** from Kaggle.\n",
    "\n",
    "- Dataset: `\"dakshnagra/dry-eye-disease\"`\n",
    "- File: `\"Dry_Eye_Dataset.csv\"`"
   ]
  },
  {
   "cell_type": "code",
   "execution_count": 2,
   "id": "230d863d",
   "metadata": {},
   "outputs": [
    {
     "name": "stdout",
     "output_type": "stream",
     "text": [
      "Warning: Looks like you're using an outdated `kagglehub` version (installed: 0.3.10), please consider upgrading to the latest version (0.3.11).\n"
     ]
    }
   ],
   "source": [
    "# path to the dataset\n",
    "file_path = \"Dry_Eye_Dataset.csv\"\n",
    "\n",
    "# Load the latest version of the file\n",
    "df0 = kagglehub.load_dataset(\n",
    "  KaggleDatasetAdapter.PANDAS,\n",
    "  \"dakshnagra/dry-eye-disease\",\n",
    "  file_path,\n",
    ")"
   ]
  },
  {
   "cell_type": "markdown",
   "id": "acad1a58",
   "metadata": {},
   "source": [
    "### Save the dataset locally in 'Data' directory "
   ]
  },
  {
   "cell_type": "code",
   "execution_count": 3,
   "id": "dd259947",
   "metadata": {},
   "outputs": [],
   "source": [
    "\n",
    "fname = '../Data/dry_eye_disease_rawfile.csv'\n",
    "df0.to_csv(fname, index=False)"
   ]
  },
  {
   "cell_type": "markdown",
   "id": "b1ef8a97",
   "metadata": {},
   "source": [
    "### Read data from Data directory\n"
   ]
  },
  {
   "cell_type": "code",
   "execution_count": 5,
   "id": "fd848045",
   "metadata": {},
   "outputs": [],
   "source": [
    "df0  = pd.read_csv(fname)"
   ]
  },
  {
   "cell_type": "markdown",
   "id": "dcd870a5",
   "metadata": {},
   "source": [
    "### Print Headers of first five entries\n"
   ]
  },
  {
   "cell_type": "code",
   "execution_count": 6,
   "id": "36ddd639",
   "metadata": {},
   "outputs": [
    {
     "data": {
      "text/html": [
       "<div>\n",
       "<style scoped>\n",
       "    .dataframe tbody tr th:only-of-type {\n",
       "        vertical-align: middle;\n",
       "    }\n",
       "\n",
       "    .dataframe tbody tr th {\n",
       "        vertical-align: top;\n",
       "    }\n",
       "\n",
       "    .dataframe thead th {\n",
       "        text-align: right;\n",
       "    }\n",
       "</style>\n",
       "<table border=\"1\" class=\"dataframe\">\n",
       "  <thead>\n",
       "    <tr style=\"text-align: right;\">\n",
       "      <th></th>\n",
       "      <th>Gender</th>\n",
       "      <th>Age</th>\n",
       "      <th>Sleep duration</th>\n",
       "      <th>Sleep quality</th>\n",
       "      <th>Stress level</th>\n",
       "      <th>Blood pressure</th>\n",
       "      <th>Heart rate</th>\n",
       "      <th>Daily steps</th>\n",
       "      <th>Physical activity</th>\n",
       "      <th>Height</th>\n",
       "      <th>...</th>\n",
       "      <th>Smoking</th>\n",
       "      <th>Medical issue</th>\n",
       "      <th>Ongoing medication</th>\n",
       "      <th>Smart device before bed</th>\n",
       "      <th>Average screen time</th>\n",
       "      <th>Blue-light filter</th>\n",
       "      <th>Discomfort Eye-strain</th>\n",
       "      <th>Redness in eye</th>\n",
       "      <th>Itchiness/Irritation in eye</th>\n",
       "      <th>Dry Eye Disease</th>\n",
       "    </tr>\n",
       "  </thead>\n",
       "  <tbody>\n",
       "    <tr>\n",
       "      <th>0</th>\n",
       "      <td>F</td>\n",
       "      <td>24</td>\n",
       "      <td>9.5</td>\n",
       "      <td>2</td>\n",
       "      <td>1</td>\n",
       "      <td>137/89</td>\n",
       "      <td>67</td>\n",
       "      <td>3000</td>\n",
       "      <td>31</td>\n",
       "      <td>161</td>\n",
       "      <td>...</td>\n",
       "      <td>N</td>\n",
       "      <td>Y</td>\n",
       "      <td>Y</td>\n",
       "      <td>N</td>\n",
       "      <td>8.7</td>\n",
       "      <td>N</td>\n",
       "      <td>Y</td>\n",
       "      <td>Y</td>\n",
       "      <td>N</td>\n",
       "      <td>Y</td>\n",
       "    </tr>\n",
       "    <tr>\n",
       "      <th>1</th>\n",
       "      <td>M</td>\n",
       "      <td>39</td>\n",
       "      <td>9.6</td>\n",
       "      <td>2</td>\n",
       "      <td>3</td>\n",
       "      <td>108/64</td>\n",
       "      <td>60</td>\n",
       "      <td>12000</td>\n",
       "      <td>74</td>\n",
       "      <td>164</td>\n",
       "      <td>...</td>\n",
       "      <td>N</td>\n",
       "      <td>Y</td>\n",
       "      <td>Y</td>\n",
       "      <td>N</td>\n",
       "      <td>9.6</td>\n",
       "      <td>Y</td>\n",
       "      <td>N</td>\n",
       "      <td>N</td>\n",
       "      <td>Y</td>\n",
       "      <td>Y</td>\n",
       "    </tr>\n",
       "    <tr>\n",
       "      <th>2</th>\n",
       "      <td>F</td>\n",
       "      <td>45</td>\n",
       "      <td>5.4</td>\n",
       "      <td>1</td>\n",
       "      <td>5</td>\n",
       "      <td>134/81</td>\n",
       "      <td>95</td>\n",
       "      <td>12000</td>\n",
       "      <td>93</td>\n",
       "      <td>179</td>\n",
       "      <td>...</td>\n",
       "      <td>N</td>\n",
       "      <td>N</td>\n",
       "      <td>N</td>\n",
       "      <td>Y</td>\n",
       "      <td>4.0</td>\n",
       "      <td>N</td>\n",
       "      <td>Y</td>\n",
       "      <td>N</td>\n",
       "      <td>N</td>\n",
       "      <td>N</td>\n",
       "    </tr>\n",
       "    <tr>\n",
       "      <th>3</th>\n",
       "      <td>F</td>\n",
       "      <td>45</td>\n",
       "      <td>5.4</td>\n",
       "      <td>4</td>\n",
       "      <td>5</td>\n",
       "      <td>110/90</td>\n",
       "      <td>78</td>\n",
       "      <td>19000</td>\n",
       "      <td>32</td>\n",
       "      <td>160</td>\n",
       "      <td>...</td>\n",
       "      <td>N</td>\n",
       "      <td>Y</td>\n",
       "      <td>N</td>\n",
       "      <td>N</td>\n",
       "      <td>7.6</td>\n",
       "      <td>N</td>\n",
       "      <td>Y</td>\n",
       "      <td>N</td>\n",
       "      <td>Y</td>\n",
       "      <td>N</td>\n",
       "    </tr>\n",
       "    <tr>\n",
       "      <th>4</th>\n",
       "      <td>F</td>\n",
       "      <td>42</td>\n",
       "      <td>5.7</td>\n",
       "      <td>3</td>\n",
       "      <td>2</td>\n",
       "      <td>99/67</td>\n",
       "      <td>72</td>\n",
       "      <td>4000</td>\n",
       "      <td>173</td>\n",
       "      <td>179</td>\n",
       "      <td>...</td>\n",
       "      <td>N</td>\n",
       "      <td>Y</td>\n",
       "      <td>N</td>\n",
       "      <td>N</td>\n",
       "      <td>3.5</td>\n",
       "      <td>N</td>\n",
       "      <td>Y</td>\n",
       "      <td>Y</td>\n",
       "      <td>N</td>\n",
       "      <td>Y</td>\n",
       "    </tr>\n",
       "  </tbody>\n",
       "</table>\n",
       "<p>5 rows × 26 columns</p>\n",
       "</div>"
      ],
      "text/plain": [
       "  Gender  Age  Sleep duration  Sleep quality  Stress level Blood pressure  \\\n",
       "0      F   24             9.5              2             1         137/89   \n",
       "1      M   39             9.6              2             3         108/64   \n",
       "2      F   45             5.4              1             5         134/81   \n",
       "3      F   45             5.4              4             5         110/90   \n",
       "4      F   42             5.7              3             2          99/67   \n",
       "\n",
       "   Heart rate  Daily steps  Physical activity  Height  ...  Smoking  \\\n",
       "0          67         3000                 31     161  ...        N   \n",
       "1          60        12000                 74     164  ...        N   \n",
       "2          95        12000                 93     179  ...        N   \n",
       "3          78        19000                 32     160  ...        N   \n",
       "4          72         4000                173     179  ...        N   \n",
       "\n",
       "  Medical issue Ongoing medication Smart device before bed  \\\n",
       "0             Y                  Y                       N   \n",
       "1             Y                  Y                       N   \n",
       "2             N                  N                       Y   \n",
       "3             Y                  N                       N   \n",
       "4             Y                  N                       N   \n",
       "\n",
       "  Average screen time Blue-light filter Discomfort Eye-strain Redness in eye  \\\n",
       "0                 8.7                 N                     Y              Y   \n",
       "1                 9.6                 Y                     N              N   \n",
       "2                 4.0                 N                     Y              N   \n",
       "3                 7.6                 N                     Y              N   \n",
       "4                 3.5                 N                     Y              Y   \n",
       "\n",
       "  Itchiness/Irritation in eye Dry Eye Disease  \n",
       "0                           N               Y  \n",
       "1                           Y               Y  \n",
       "2                           N               N  \n",
       "3                           Y               N  \n",
       "4                           N               Y  \n",
       "\n",
       "[5 rows x 26 columns]"
      ]
     },
     "execution_count": 6,
     "metadata": {},
     "output_type": "execute_result"
    }
   ],
   "source": [
    "df0.head(5)"
   ]
  },
  {
   "cell_type": "code",
   "execution_count": 45,
   "id": "1022c3e1",
   "metadata": {},
   "outputs": [
    {
     "name": "stdout",
     "output_type": "stream",
     "text": [
      "                Age  Sleep duration  Sleep quality  Stress level  \\\n",
      "count  20000.000000    20000.000000   20000.000000  20000.000000   \n",
      "mean      31.422800        6.998245       2.997250      2.993750   \n",
      "std        8.103717        1.731723       1.412283      1.407235   \n",
      "min       18.000000        4.000000       1.000000      1.000000   \n",
      "25%       24.000000        5.500000       2.000000      2.000000   \n",
      "50%       31.000000        7.000000       3.000000      3.000000   \n",
      "75%       39.000000        8.500000       4.000000      4.000000   \n",
      "max       45.000000       10.000000       5.000000      5.000000   \n",
      "\n",
      "         Heart rate   Daily steps  Physical activity        Height  \\\n",
      "count  20000.000000  20000.000000       20000.000000  20000.000000   \n",
      "mean      79.912200  10536.900000          90.069750    174.865900   \n",
      "std       11.808279   5752.729186          52.317283     14.719903   \n",
      "min       60.000000   1000.000000           0.000000    150.000000   \n",
      "25%       70.000000   6000.000000          45.000000    162.000000   \n",
      "50%       80.000000  11000.000000          91.000000    175.000000   \n",
      "75%       90.000000  16000.000000         135.000000    188.000000   \n",
      "max      100.000000  20000.000000         180.000000    200.000000   \n",
      "\n",
      "             Weight  Average screen time  \n",
      "count  20000.000000         20000.000000  \n",
      "mean      74.891850             5.519885  \n",
      "std       14.733839             2.606305  \n",
      "min       50.000000             1.000000  \n",
      "25%       62.000000             3.300000  \n",
      "50%       75.000000             5.500000  \n",
      "75%       88.000000             7.800000  \n",
      "max      100.000000            10.000000  \n"
     ]
    }
   ],
   "source": [
    "#Copy the data file so to have the raw file intact\n",
    "df = df0.copy()\n",
    "#Describe the numerical data\n",
    "print(df.describe())"
   ]
  },
  {
   "cell_type": "markdown",
   "id": "c606e291",
   "metadata": {},
   "source": [
    "### Make everything lower case, and replace space with '_'"
   ]
  },
  {
   "cell_type": "code",
   "execution_count": null,
   "id": "ae55a9db",
   "metadata": {},
   "outputs": [],
   "source": [
    "df.columns = df.columns.str.lower().str.replace(' ', '_')"
   ]
  },
  {
   "cell_type": "markdown",
   "id": "ab0e8c9e",
   "metadata": {},
   "source": [
    "### Split the blood pressure into **systolic** and **diastolic** parts. Then categorize according to systolic and diastolic levels. "
   ]
  },
  {
   "cell_type": "code",
   "execution_count": 47,
   "id": "50ea0450",
   "metadata": {},
   "outputs": [
    {
     "name": "stdout",
     "output_type": "stream",
     "text": [
      "Types of variables in bp_category: 4\n"
     ]
    }
   ],
   "source": [
    "# Split the blood_pressure column into two new columns\n",
    "df[['systolic', 'diastolic']] = df['blood_pressure'].str.split('/', expand=True).astype(int)\n",
    "\n",
    "# Define the Blood Pressure Category\n",
    "def categorize_bp(row):\n",
    "    systolic = int(row['systolic'])\n",
    "    diastolic = int(row['diastolic'])\n",
    "    if systolic < 90 and diastolic < 60:\n",
    "        return 'hypotension'\n",
    "    elif systolic < 120 and diastolic < 80:\n",
    "        return 'normal'\n",
    "    elif 120 <= systolic < 130 and diastolic < 80:\n",
    "        return 'elevated'\n",
    "    elif (130 <= systolic < 140) or (80 <= diastolic < 90):\n",
    "        return 'hypertension_stage_1'\n",
    "    elif (140 <= systolic < 180) or (90 <= diastolic < 120):\n",
    "        return 'hypertension_stage_2'\n",
    "    elif systolic >= 180 or diastolic >= 120:\n",
    "        return 'hypertensive_crisis'\n",
    "    else:\n",
    "        return 'unclassified'\n",
    "    \n",
    "# New BP category column\n",
    "df['bp_category'] = df.apply(categorize_bp, axis=1)\n",
    "print('Types of variables in bp_category:',df['bp_category'].nunique())\n",
    "\n",
    "df = df.drop(columns=['blood_pressure']) "
   ]
  },
  {
   "cell_type": "markdown",
   "id": "480014ff",
   "metadata": {},
   "source": [
    "### We do not have a well defined variable called **Insomnia** in our data. So, we prepare a target 'Insomnia' based on five available features. If **3 or more** of these conditions are met, the function returns 'Y'."
   ]
  },
  {
   "cell_type": "code",
   "execution_count": 48,
   "id": "45e9d452",
   "metadata": {},
   "outputs": [],
   "source": [
    "#Define Insomnia\n",
    "def define_insomnia(row):\n",
    "    criteria_met = 0\n",
    "    \n",
    "    # Check if each criterion is met\n",
    "    if row['sleep_disorder'] == 'Y':  # Only consider those with sleep disorder\n",
    "        criteria_met+=1\n",
    "    if row['sleep_duration'] < 6:\n",
    "            criteria_met += 1\n",
    "    if row['sleep_quality'] <= 3:\n",
    "        criteria_met += 1\n",
    "    if row['feel_sleepy_during_day'] == 'Y':\n",
    "        criteria_met += 1\n",
    "    if row['wake_up_during_night'] == 'Y':\n",
    "        criteria_met += 1\n",
    "        \n",
    "    # Assign insomnia as 1 if 2 or more criteria are met\n",
    "    if criteria_met >= 3:\n",
    "        return 'Y'\n",
    "    return 'N'  # Insomnia = 0 if fewer than 2 criteria are met\n",
    "\n",
    "# Apply the function to create a new column 'Insomnia'\n",
    "df['insomnia'] = df.apply(define_insomnia, axis=1)"
   ]
  },
  {
   "cell_type": "markdown",
   "id": "7ad4e567",
   "metadata": {},
   "source": [
    "### Make another category **Combined Condition** based on 'Dry Eye Disease' and 'Insomnia'"
   ]
  },
  {
   "cell_type": "code",
   "execution_count": 49,
   "id": "e25d1b22",
   "metadata": {},
   "outputs": [],
   "source": [
    "#Define Insomnia\n",
    "def combined_condition(row):\n",
    "    insomnia = row['insomnia']\n",
    "    dry_eye_disease = row['dry_eye_disease']\n",
    "    \n",
    "    if insomnia=='Y' and dry_eye_disease=='N':\n",
    "        return 'insomnia'\n",
    "    elif insomnia=='N' and dry_eye_disease=='Y':\n",
    "        return 'dry_eye_disease'\n",
    "    elif insomnia=='Y' and dry_eye_disease=='Y':\n",
    "        return 'both'\n",
    "    else:\n",
    "        return 'none'\n",
    "\n",
    "# Apply the function to create a new column 'Insomnia'\n",
    "df['combined_condition'] = df.apply(combined_condition, axis=1)"
   ]
  },
  {
   "cell_type": "markdown",
   "id": "de0940fd",
   "metadata": {},
   "source": [
    "### Compute the **Body Mass Index (BMI)** for each individual in the dataset using their weight and height.\n",
    "\n",
    "The formula used is:\n",
    "\n",
    "$\\text{BMI} = \\frac{\\text{Weight (kg)}}{(\\text{Height (m)})^2}$\n",
    "\n",
    "Since height is stored in centimeters, we divide it by 100 to convert to meters before squaring. The result is stored in a new column called `'bmi'`.\n"
   ]
  },
  {
   "cell_type": "code",
   "execution_count": 50,
   "id": "475c9081",
   "metadata": {},
   "outputs": [
    {
     "data": {
      "text/plain": [
       "0        26.619343\n",
       "1        32.346817\n",
       "2        29.337411\n",
       "3        30.078125\n",
       "4        30.897912\n",
       "           ...    \n",
       "19995    18.000000\n",
       "19996    25.246548\n",
       "19997    25.147416\n",
       "19998    22.837370\n",
       "19999    17.541874\n",
       "Name: bmi, Length: 20000, dtype: float64"
      ]
     },
     "execution_count": 50,
     "metadata": {},
     "output_type": "execute_result"
    }
   ],
   "source": [
    "df['bmi'] = df['weight']/(df['height']/100.)**2. # weight in k. g., height in m\n",
    "df['bmi']"
   ]
  },
  {
   "cell_type": "markdown",
   "id": "0a51e913",
   "metadata": {},
   "source": [
    "### Save dataset with updated columns\n"
   ]
  },
  {
   "cell_type": "code",
   "execution_count": null,
   "id": "4b32d471",
   "metadata": {},
   "outputs": [],
   "source": [
    "fname_fin = '../Data/dry_eye_disease_parsed.csv'\n",
    "df.to_csv(fname_fin, index=False)"
   ]
  }
 ],
 "metadata": {
  "kernelspec": {
   "display_name": "erdos_spring_2025",
   "language": "python",
   "name": "python3"
  },
  "language_info": {
   "codemirror_mode": {
    "name": "ipython",
    "version": 3
   },
   "file_extension": ".py",
   "mimetype": "text/x-python",
   "name": "python",
   "nbconvert_exporter": "python",
   "pygments_lexer": "ipython3",
   "version": "3.12.9"
  }
 },
 "nbformat": 4,
 "nbformat_minor": 5
}
