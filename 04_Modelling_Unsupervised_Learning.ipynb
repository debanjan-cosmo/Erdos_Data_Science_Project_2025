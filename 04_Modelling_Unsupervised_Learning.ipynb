{
 "cells": [
  {
   "cell_type": "code",
   "execution_count": null,
   "metadata": {},
   "outputs": [],
   "source": [
    "# To study the interdependencies between DED and insomnia and uncover patterns that are common for certain groups"
   ]
  },
  {
   "cell_type": "code",
   "execution_count": 31,
   "metadata": {},
   "outputs": [],
   "source": [
    "import kagglehub\n",
    "from kagglehub import KaggleDatasetAdapter\n",
    "\n",
    "#Import some packages for visualization\n",
    "import pandas as pd\n",
    "import numpy as np\n",
    "import seaborn as sns\n",
    "import matplotlib.pyplot as plt"
   ]
  },
  {
   "cell_type": "code",
   "execution_count": 32,
   "metadata": {},
   "outputs": [
    {
     "name": "stderr",
     "output_type": "stream",
     "text": [
      "/var/folders/h4/8_8xkn4579zbrdb79s7zrtl00000gp/T/ipykernel_29205/3521891120.py:5: DeprecationWarning: load_dataset is deprecated and will be removed in future version.\n",
      "  df0 = kagglehub.load_dataset(\n"
     ]
    }
   ],
   "source": [
    "# path to the dataset\n",
    "file_path = \"Dry_Eye_Dataset.csv\"\n",
    "\n",
    "# Load the latest version of the file\n",
    "df0 = kagglehub.load_dataset(\n",
    "  KaggleDatasetAdapter.PANDAS,\n",
    "  \"dakshnagra/dry-eye-disease\",\n",
    "  file_path,\n",
    "  # Provide any additional arguments like \n",
    "  # sql_query or pandas_kwargs. See the \n",
    "  # documenation for more information:\n",
    "  # https://github.com/Kaggle/kagglehub/blob/main/README.md#kaggledatasetadapterpandas\n",
    ")"
   ]
  },
  {
   "cell_type": "code",
   "execution_count": 33,
   "metadata": {},
   "outputs": [
    {
     "data": {
      "text/plain": [
       "Index(['gender', 'age', 'sleep_duration', 'sleep_quality', 'stress_level',\n",
       "       'heart_rate', 'daily_steps', 'physical_activity', 'height', 'weight',\n",
       "       'sleep_disorder', 'wake_up_during_night', 'feel_sleepy_during_day',\n",
       "       'caffeine_consumption', 'alcohol_consumption', 'smoking',\n",
       "       'medical_issue', 'ongoing_medication', 'smart_device_before_bed',\n",
       "       'average_screen_time', 'blue_light_filter', 'discomfort_eye_strain',\n",
       "       'redness_in_eye', 'eye_irritation', 'dry_eye_disease', 'bp_category',\n",
       "       'Insomnia', 'insomnia'],\n",
       "      dtype='object')"
      ]
     },
     "execution_count": 33,
     "metadata": {},
     "output_type": "execute_result"
    }
   ],
   "source": [
    "df.columns"
   ]
  },
  {
   "cell_type": "code",
   "execution_count": 34,
   "metadata": {},
   "outputs": [],
   "source": [
    "df = df0.copy()\n",
    "\n",
    "#Make everything lower case, and replace space with '_'\n",
    "df.columns = [col.lower().replace(\" \", \"_\").replace(\"-\", \"_\").replace(\"itchiness/irritation_in_eye\", 'eye_irritation') for col in df.columns]\n",
    "\n",
    "# Split the blood_pressure column into two new columns\n",
    "df[['systolic', 'diastolic']] = df['blood_pressure'].str.split('/', expand=True)\n",
    "\n",
    "# Define the Blood Pressure Category\n",
    "def categorize_bp(row):\n",
    "    if 110 <= int(row['systolic']) <= 120 and 70 <= int(row['diastolic']) <= 80:\n",
    "        return 'normal'\n",
    "    elif int(row['systolic']) > 120 or int(row['diastolic']) > 80:\n",
    "        return 'high'\n",
    "    else:\n",
    "        return 'low'\n",
    "# New BP category column\n",
    "df['bp_category'] = df.apply(categorize_bp, axis=1)"
   ]
  },
  {
   "cell_type": "code",
   "execution_count": 35,
   "metadata": {},
   "outputs": [],
   "source": [
    "omit_cols = ['blood_pressure',\n",
    "              'systolic',\n",
    "              'diastolic']\n",
    "df = df.drop(columns=omit_cols)"
   ]
  },
  {
   "cell_type": "code",
   "execution_count": 48,
   "metadata": {},
   "outputs": [
    {
     "data": {
      "text/plain": [
       "Index(['gender', 'age', 'sleep_duration', 'sleep_quality', 'stress_level',\n",
       "       'heart_rate', 'daily_steps', 'physical_activity', 'height', 'weight',\n",
       "       'sleep_disorder', 'wake_up_during_night', 'feel_sleepy_during_day',\n",
       "       'caffeine_consumption', 'alcohol_consumption', 'smoking',\n",
       "       'medical_issue', 'ongoing_medication', 'smart_device_before_bed',\n",
       "       'average_screen_time', 'blue_light_filter', 'discomfort_eye_strain',\n",
       "       'redness_in_eye', 'eye_irritation', 'dry_eye_disease', 'bp_category',\n",
       "       'insomnia'],\n",
       "      dtype='object')"
      ]
     },
     "execution_count": 48,
     "metadata": {},
     "output_type": "execute_result"
    }
   ],
   "source": [
    "df.columns"
   ]
  },
  {
   "cell_type": "code",
   "execution_count": 49,
   "metadata": {},
   "outputs": [],
   "source": [
    "#Creating the target for insomnia from: \n",
    "#Sleep disorder, sleep quality, sleep duration, 'Feel sleepy during day', and 'Wake up during night'"
   ]
  },
  {
   "cell_type": "code",
   "execution_count": 53,
   "metadata": {},
   "outputs": [],
   "source": [
    "def define_insomnia(row):\n",
    "    criteria_met = 0\n",
    "    \n",
    "    # Check if each criterion is met\n",
    "    if row['sleep_disorder'] == 'Y':  # Only consider those with sleep disorder\n",
    "        criteria_met+=1\n",
    "    if row['sleep_duration'] < 6:\n",
    "            criteria_met += 1\n",
    "    if row['sleep_quality'] <= 2:\n",
    "        criteria_met += 1\n",
    "    if row['feel_sleepy_during_day'] == 'Y':\n",
    "        criteria_met += 1\n",
    "    if row['wake_up_during_night'] == 'Y':\n",
    "        criteria_met += 1\n",
    "    \n",
    "    # Assign insomnia as 1 if 2 or more criteria are met\n",
    "    if criteria_met >= 3:\n",
    "        return 1\n",
    "    return 0  # Insomnia = 0 if fewer than 2 criteria are met\n",
    "\n",
    "# Apply the function to create a new column 'Insomnia'\n",
    "df['insomnia'] = df.apply(define_insomnia, axis=1)"
   ]
  },
  {
   "cell_type": "code",
   "execution_count": 62,
   "metadata": {},
   "outputs": [
    {
     "name": "stdout",
     "output_type": "stream",
     "text": [
      "gender                         M\n",
      "age                           41\n",
      "sleep_duration               8.2\n",
      "sleep_quality                  4\n",
      "stress_level                   2\n",
      "heart_rate                    85\n",
      "daily_steps                11000\n",
      "physical_activity             48\n",
      "height                       179\n",
      "weight                        61\n",
      "sleep_disorder                 Y\n",
      "wake_up_during_night           N\n",
      "feel_sleepy_during_day         N\n",
      "caffeine_consumption           N\n",
      "alcohol_consumption            N\n",
      "smoking                        N\n",
      "medical_issue                  N\n",
      "ongoing_medication             N\n",
      "smart_device_before_bed        Y\n",
      "average_screen_time          2.2\n",
      "blue_light_filter              Y\n",
      "discomfort_eye_strain          N\n",
      "redness_in_eye                 N\n",
      "eye_irritation                 Y\n",
      "dry_eye_disease                Y\n",
      "bp_category                 high\n",
      "insomnia                       0\n",
      "Name: 1999, dtype: object\n"
     ]
    }
   ],
   "source": [
    "'''\n",
    "This shows why including sleep disorder as a general condition instead as a first filter is a better approach, since sleep disorder can\n",
    "include conditions other than insomnia. For example, for this person, although sleep disorder is Y, the other conditions for insomnia\n",
    "are not satisfied.\n",
    "'''\n",
    "\n",
    "print(df.iloc[1999])"
   ]
  },
  {
   "cell_type": "code",
   "execution_count": 55,
   "metadata": {},
   "outputs": [
    {
     "data": {
      "text/plain": [
       "insomnia\n",
       "0    12104\n",
       "1     7896\n",
       "Name: count, dtype: int64"
      ]
     },
     "execution_count": 55,
     "metadata": {},
     "output_type": "execute_result"
    }
   ],
   "source": [
    "df['insomnia'].value_counts()"
   ]
  },
  {
   "cell_type": "code",
   "execution_count": null,
   "metadata": {},
   "outputs": [],
   "source": []
  }
 ],
 "metadata": {
  "kernelspec": {
   "display_name": "erdos_spring_2025",
   "language": "python",
   "name": "python3"
  },
  "language_info": {
   "codemirror_mode": {
    "name": "ipython",
    "version": 3
   },
   "file_extension": ".py",
   "mimetype": "text/x-python",
   "name": "python",
   "nbconvert_exporter": "python",
   "pygments_lexer": "ipython3",
   "version": "3.12.9"
  },
  "orig_nbformat": 4
 },
 "nbformat": 4,
 "nbformat_minor": 2
}
